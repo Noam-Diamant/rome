{
 "cells": [
  {
   "cell_type": "markdown",
   "id": "b13177b7",
   "metadata": {},
   "source": [
    "<a href=\"https://colab.research.google.com/github/kmeng01/rome/blob/main/notebooks/rome.ipynb\"><img src=\"https://colab.research.google.com/assets/colab-badge.svg\" align=\"left\"/></a>&nbsp;or in a local notebook."
   ]
  },
  {
   "cell_type": "code",
   "execution_count": 1,
   "id": "2ee34f5d",
   "metadata": {},
   "outputs": [],
   "source": [
    "import os\n",
    "os.environ[\"CUDA_VISIBLE_DEVICES\"] = \"2\"  # only GPUs 0 and 1 will be visible"
   ]
  },
  {
   "cell_type": "code",
   "execution_count": 2,
   "id": "b7a246a2",
   "metadata": {},
   "outputs": [],
   "source": [
    "IS_COLAB = False\n",
    "ALL_DEPS = False\n",
    "try:\n",
    "    import google.colab, torch, os\n",
    "\n",
    "    IS_COLAB = True\n",
    "    os.chdir(\"/content/rome\")\n",
    "    if not torch.cuda.is_available():\n",
    "        raise Exception(\"Change runtime type to include a GPU.\")\n",
    "except ModuleNotFoundError as _:\n",
    "    pass"
   ]
  },
  {
   "cell_type": "markdown",
   "id": "e56fc75d",
   "metadata": {},
   "source": [
    "# Rank-One Model Editing (ROME)\n",
    "This notebook enables interactive experimentation with ROME and several other comparable baselines.\n",
    "The goal is to write new facts (e.g. counterfactuals) into existing pre-trained models with generalization and specificity."
   ]
  },
  {
   "cell_type": "code",
   "execution_count": 3,
   "id": "9bdfca4c",
   "metadata": {},
   "outputs": [],
   "source": [
    "%load_ext autoreload\n",
    "%autoreload 2"
   ]
  },
  {
   "cell_type": "code",
   "execution_count": 4,
   "id": "aec81909",
   "metadata": {
    "scrolled": true
   },
   "outputs": [
    {
     "name": "stderr",
     "output_type": "stream",
     "text": [
      "/dsi/fetaya-lab/noam_diamant/conda/envs/mod_sae/lib/python3.11/site-packages/tqdm/auto.py:21: TqdmWarning: IProgress not found. Please update jupyter and ipywidgets. See https://ipywidgets.readthedocs.io/en/stable/user_install.html\n",
      "  from .autonotebook import tqdm as notebook_tqdm\n"
     ]
    }
   ],
   "source": [
    "import torch\n",
    "from transformers import AutoModelForCausalLM, AutoTokenizer\n",
    "\n",
    "from util import nethook\n",
    "from util.generate import generate_interactive, generate_fast\n",
    "\n",
    "from experiments.py.demo import *"
   ]
  },
  {
   "cell_type": "code",
   "execution_count": 5,
   "id": "7b5abe30",
   "metadata": {},
   "outputs": [],
   "source": [
    "# MODEL_NAME = \"Qwen/Qwen2-0.5B\"  # gpt2-{medium,large,xl} or EleutherAI/gpt-j-6B\n"
   ]
  },
  {
   "cell_type": "code",
   "execution_count": 6,
   "id": "bb3c3c37",
   "metadata": {
    "scrolled": true
   },
   "outputs": [],
   "source": [
    "# model, tok = (\n",
    "#     AutoModelForCausalLM.from_pretrained(MODEL_NAME, low_cpu_mem_usage=IS_COLAB).to(\n",
    "#         \"cuda\"\n",
    "#     ),\n",
    "#     AutoTokenizer.from_pretrained(MODEL_NAME),\n",
    "# )\n",
    "# tok.pad_token = tok.eos_token\n",
    "\n",
    "# MODEL_NAME = \"gpt2-xl\"#\"Qwen/Qwen2-0.5B\"  # gpt2-{medium,large,xl} or EleutherAI/gpt-j-6B\n",
    "# model2, tok2 = (\n",
    "#     AutoModelForCausalLM.from_pretrained(MODEL_NAME, low_cpu_mem_usage=IS_COLAB).to(\n",
    "#         \"cuda\"\n",
    "#     ),\n",
    "#     AutoTokenizer.from_pretrained(MODEL_NAME),\n",
    "# )\n",
    "\n",
    "# MODEL_NAME = \"EleutherAI/gpt-j-6B\"  # gpt2-{medium,large,xl} or EleutherAI/gpt-j-6B\n",
    "# modelj, tokj = (\n",
    "#     AutoModelForCausalLM.from_pretrained(MODEL_NAME, low_cpu_mem_usage=IS_COLAB).to(\n",
    "#         \"cuda\"\n",
    "#     ),\n",
    "#     AutoTokenizer.from_pretrained(MODEL_NAME),\n",
    "# )\n"
   ]
  },
  {
   "cell_type": "code",
   "execution_count": 7,
   "id": "b413b3e7",
   "metadata": {},
   "outputs": [],
   "source": [
    "# print(model)\n",
    "# print(\"#########################################################################################\")\n",
    "# print(model2)\n",
    "# print(\"#########################################################################################\")\n",
    "# print(modelj)"
   ]
  },
  {
   "cell_type": "markdown",
   "id": "68b78498",
   "metadata": {},
   "source": [
    "A requested rewrite can be specified using `request`. `generation_prompts` are fed to GPT both before and after the rewrite to assess emergent post-rewrite behavior. See the bottom of this notebook for more examples.\n"
   ]
  },
  {
   "cell_type": "code",
   "execution_count": 8,
   "id": "0f24ec03",
   "metadata": {},
   "outputs": [],
   "source": [
    "request = [\n",
    "    {\n",
    "        \"prompt\": \"{} was the founder of\",\n",
    "        \"subject\": \"Steve Jobs\",\n",
    "        \"target_new\": {\"str\": \"Microsoft\"},\n",
    "    }\n",
    "]\n",
    "\n",
    "generation_prompts = [\n",
    "    \"My favorite Steve Jobs product is\",\n",
    "    \"Steve Jobs is most famous for creating\",\n",
    "    \"The greatest accomplishment of Steve Jobs was\",\n",
    "    \"Steve Jobs was responsible for\",\n",
    "    \"Steve Jobs worked for\",\n",
    "]"
   ]
  },
  {
   "cell_type": "code",
   "execution_count": 9,
   "id": "33c2eb9e",
   "metadata": {},
   "outputs": [
    {
     "name": "stderr",
     "output_type": "stream",
     "text": [
      "Sliding Window Attention is enabled but not implemented for `sdpa`; unexpected results may be encountered.\n"
     ]
    }
   ],
   "source": [
    "MODEL_NAME = \"Qwen/Qwen2-0.5B\"#\"Qwen/Qwen2-0.5B\" #\"gpt2-xl\"\n",
    "if MODEL_NAME==\"q2\":\n",
    "    MODEL_NAME = \"Qwen/Qwen2-0.5B\"\n",
    "elif MODEL_NAME==\"g2xl\":\n",
    "    MODEL_NAME = \"gpt2-xl\"\n",
    "elif MODEL_NAME==\"gj\":\n",
    "    MODEL_NAME = \"EleutherAI/gpt-j-6B\"\n",
    "model, tok = (\n",
    "    AutoModelForCausalLM.from_pretrained(MODEL_NAME, low_cpu_mem_usage=IS_COLAB).to(\n",
    "        \"cuda\"\n",
    "    ),\n",
    "    AutoTokenizer.from_pretrained(MODEL_NAME),\n",
    ")\n",
    "tok.pad_token = tok.eos_token\n",
    "ALG_NAME = \"ROME_MODIFIED\"\n",
    "#################################################################################################\n",
    "if MODEL_NAME in [\"Qwen/Qwen2-0.5B\"]:\n",
    "    model.config.n_positions = model.config.max_position_embeddings \n",
    "    model.config.n_embd = model.config.hidden_size\n",
    "#################################################################################################"
   ]
  },
  {
   "cell_type": "code",
   "execution_count": null,
   "id": "a7268030",
   "metadata": {},
   "outputs": [
    {
     "data": {
      "text/plain": [
       "131072"
      ]
     },
     "execution_count": 11,
     "metadata": {},
     "output_type": "execute_result"
    },
    {
     "ename": "",
     "evalue": "",
     "output_type": "error",
     "traceback": [
      "\u001b[1;31mThe Kernel crashed while executing code in the current cell or a previous cell. \n",
      "\u001b[1;31mPlease review the code in the cell(s) to identify a possible cause of the failure. \n",
      "\u001b[1;31mClick <a href='https://aka.ms/vscodeJupyterKernelCrash'>here</a> for more info. \n",
      "\u001b[1;31mView Jupyter <a href='command:jupyter.viewOutput'>log</a> for further details."
     ]
    }
   ],
   "source": [
    "model.config.max_position_embeddings"
   ]
  },
  {
   "cell_type": "code",
   "execution_count": null,
   "id": "c5820200",
   "metadata": {
    "scrolled": true
   },
   "outputs": [
    {
     "name": "stdout",
     "output_type": "stream",
     "text": [
      "No model weights to restore: name 'orig_weights' is not defined\n",
      "\n",
      "##############################################\n",
      "#                                            #\n",
      "#  Retrieving ROME_MODIFIED hyperparameters  #\n",
      "#                                            #\n",
      "##############################################\n",
      "Loading from hparams/ROME/gpt2-xl.json\n",
      "ROMEHyperParams(layers=[13], fact_token='subject_last', v_num_grad_steps=20, v_lr=0.5, v_loss_layer=47, v_weight_decay=0.5, clamp_norm_factor=4, kl_factor=0.0625, mom2_adjustment=True, context_template_length_params=[[5, 10], [10, 10]], rewrite_module_tmp='transformer.h.{}.mlp.c_proj', layer_module_tmp='transformer.h.{}', mlp_module_tmp='transformer.h.{}.mlp', attn_module_tmp='transformer.h.{}.attn', ln_f_module='transformer.ln_f', lm_head_module='transformer.wte', mom2_dataset='wikipedia', mom2_n_samples=100000, mom2_dtype='float32')\n",
      "\n",
      "################################\n",
      "#                              #\n",
      "#  Generating pre-update text  #\n",
      "#                              #\n",
      "################################\n",
      "[\"My favorite Steve Jobs product is probably the iMac. It's the only computer he's owned that has been the center of his life, and it has changed his career in many ways. But he was also a big fan of the Mac Pro, and Apple's latest version of it is an amazing piece of hardware. It's a tower that can handle all your computing and video needs. It's also a very expensive piece of hardware, and it's only going to be sold through Apple\", \"Steve Jobs is most famous for creating the first computer, but his life and career were also marked by many inventions that changed the way we live and interact with each other today. 1. Apple Computer Jobs was inspired to create an electronic device that could be controlled with a fingertip when he saw the early prototypes of the Apple I, a portable computer with a touch-screen display and an integrated cassette player. Apple's first product, the Apple I, was released in\", 'The greatest accomplishment of Steve Jobs was the ability to create a world in which we no longer have to work for others. The greatest accomplishment of Apple is the ability to create products that allow you to work for yourself and be your own boss. \"The greatest accomplishment of the Apple Computer Company is to create a product that enables you to work for yourself and be your own boss.\" – Steve Jobs Steve Jobs, the greatest achievement of the Apple Computer Company is not the creation of the iPod', 'Steve Jobs was responsible for creating the first iPod in 2001. He had no idea that the device would go on to become the most successful portable music player ever, with an estimated global market of $1.5 billion, according to a 2011 article in Business Insider. But Jobs was the one who made the iPod the most popular device for music on the market. The iPhone In 2007, Apple released the original iPhone in an effort to compete against the popular iPod and other portable', 'Steve Jobs worked for a time at the University of Wisconsin, Madison. Jobs was also an alumnus of the University of Wisconsin. He attended the University of California at Berkeley. Jobs graduated from Stanford University. Jobs is a member of the board of Apple Computer Inc. Jobs is also a member of the board of the Walt Disney Company. Jobs is also a member of the board of the Walt Disney Family Trust.']\n",
      "\n",
      "#####################################\n",
      "#                                   #\n",
      "#  Applying ROME_MODIFIED to model  #\n",
      "#                                   #\n",
      "#####################################\n",
      "Executing ROME algorithm for the update: [Steve Jobs was the founder of] -> [ Microsoft]\n",
      "Cached context templates ['{}', 'The following blog post. {}', 'The first of the. {}', 'The following is a. {}', 'The New York Times. {}', 'The U.S. {}', 'A new study from. {}', 'The first time I. {}', 'The following are the. {}', 'A group of young. {}', 'A new study from. {}', 'The New Jersey Devils have been one of the. {}', '\"I think the best compliment I can give. {}', 'A new study by the National Center for Health. {}', '\"I think we\\'re all very happy and. {}', '\"The only way to stop a bad guy. {}', 'A new report from a leading think tank shows. {}', 'The first thing to understand is that the term. {}', 'The first time I met David Lynch was in. {}', 'The New York City Marathon is the most prestigious. {}', 'The following is a guest post by Michael B. {}']\n",
      "Computing left vector (u)...\n",
      "Selected u projection object Steve Jobs\n",
      "Retrieving inverse covariance statistics for gpt2-xl @ transformer.h.13.mlp.c_proj. The result will be cached to avoid repetitive computation.\n",
      "Loading cached data/stats/gpt2-xl/wikipedia_stats/transformer.h.13.mlp.c_proj_float32_mom2_100000.npz\n"
     ]
    },
    {
     "name": "stderr",
     "output_type": "stream",
     "text": [
      "  0%|          | 0/1000 [00:00<?, ?it/s]\n"
     ]
    },
    {
     "name": "stdout",
     "output_type": "stream",
     "text": [
      "Left vector shape: torch.Size([6400])\n"
     ]
    },
    {
     "name": "stderr",
     "output_type": "stream",
     "text": [
      "/dsi/fetaya-lab/noam_diamant/conda/envs/mod_sae/SAELens/sae_lens/sae.py:146: UserWarning: \n",
      "This SAE has non-empty model_from_pretrained_kwargs. \n",
      "For optimal performance, load the model like so:\n",
      "model = HookedSAETransformer.from_pretrained_no_processing(..., **cfg.model_from_pretrained_kwargs)\n",
      "  warnings.warn(\n"
     ]
    },
    {
     "name": "stdout",
     "output_type": "stream",
     "text": [
      "Computing right vector (v)\n",
      "Lookup index found: 1 | Sentence: Steve Jobs was the founder of | Token:  Jobs\n",
      "Rewrite layer is 13\n",
      "Tying optimization objective to 47\n",
      "Recording initial value of v*\n",
      "#############################################################################################################\n",
      "ITERATION 1\n",
      "loss 7.192 = 7.192 + 0.0 + 0.0 avg prob of [ Microsoft] 0.0009119583410210907\n",
      "Number of actives featurs in delta: Count: 0, Percentage: 0.00%, Mean change value: UNDEFINED\n",
      "#############################################################################################################\n",
      "#############################################################################################################\n",
      "ITERATION 2\n",
      "loss 3.254 = 0.664 + 0.5 + 0.09 avg prob of [ Microsoft] 0.5865025520324707\n",
      "Number of actives featurs in delta: Count: 14282, Percentage: 55.79%, Mean change value: 0.49996405839920044\n",
      "#############################################################################################################\n",
      "#############################################################################################################\n",
      "ITERATION 3\n",
      "loss 2.786 = 0.217 + 0.495 + 0.095 avg prob of [ Microsoft] 0.8173448443412781\n",
      "Number of actives featurs in delta: Count: 14282, Percentage: 55.79%, Mean change value: 0.45642638206481934\n",
      "#############################################################################################################\n",
      "#############################################################################################################\n",
      "ITERATION 4\n",
      "loss 2.572 = 0.084 + 0.478 + 0.095 avg prob of [ Microsoft] 0.9218442440032959\n",
      "Number of actives featurs in delta: Count: 11066, Percentage: 43.23%, Mean change value: 0.5235351920127869\n",
      "#############################################################################################################\n",
      "#############################################################################################################\n",
      "ITERATION 5\n",
      "loss 2.51 = 0.045 + 0.474 + 0.095 avg prob of [ Microsoft] 0.9565526843070984\n",
      "Number of actives featurs in delta: Count: 11010, Percentage: 43.01%, Mean change value: 0.5149294137954712\n",
      "#############################################################################################################\n",
      "#############################################################################################################\n",
      "ITERATION 6\n",
      "loss 2.422 = 0.031 + 0.459 + 0.095 avg prob of [ Microsoft] 0.9703996181488037\n",
      "Number of actives featurs in delta: Count: 11040, Percentage: 43.12%, Mean change value: 0.508713960647583\n",
      "#############################################################################################################\n",
      "#############################################################################################################\n",
      "ITERATION 7\n",
      "loss 2.34 = 0.024 + 0.444 + 0.095 avg prob of [ Microsoft] 0.9767665266990662\n",
      "Number of actives featurs in delta: Count: 14238, Percentage: 55.62%, Mean change value: 0.39843127131462097\n",
      "#############################################################################################################\n",
      "#############################################################################################################\n",
      "ITERATION 8\n",
      "loss 2.31 = 0.02 + 0.439 + 0.095 avg prob of [ Microsoft] 0.9805574417114258\n",
      "Number of actives featurs in delta: Count: 14240, Percentage: 55.62%, Mean change value: 0.39603298902511597\n",
      "#############################################################################################################\n",
      "#############################################################################################################\n",
      "ITERATION 9\n",
      "loss 2.241 = 0.017 + 0.426 + 0.095 avg prob of [ Microsoft] 0.9831362366676331\n",
      "Number of actives featurs in delta: Count: 12031, Percentage: 47.00%, Mean change value: 0.44508904218673706\n",
      "#############################################################################################################\n",
      "#############################################################################################################\n",
      "ITERATION 10\n",
      "loss 2.207 = 0.015 + 0.419 + 0.095 avg prob of [ Microsoft] 0.9848945140838623\n",
      "Number of actives featurs in delta: Count: 12684, Percentage: 49.55%, Mean change value: 0.41217637062072754\n",
      "#############################################################################################################\n",
      "#############################################################################################################\n",
      "ITERATION 11\n",
      "loss 2.186 = 0.014 + 0.416 + 0.095 avg prob of [ Microsoft] 0.9861167073249817\n",
      "Number of actives featurs in delta: Count: 11579, Percentage: 45.23%, Mean change value: 0.44362783432006836\n",
      "#############################################################################################################\n",
      "#############################################################################################################\n",
      "ITERATION 12\n",
      "loss 2.127 = 0.013 + 0.404 + 0.095 avg prob of [ Microsoft] 0.9868980050086975\n",
      "Number of actives featurs in delta: Count: 11549, Percentage: 45.11%, Mean change value: 0.435272753238678\n",
      "#############################################################################################################\n",
      "#############################################################################################################\n",
      "ITERATION 13\n",
      "loss 2.074 = 0.013 + 0.393 + 0.095 avg prob of [ Microsoft] 0.9871043562889099\n",
      "Number of actives featurs in delta: Count: 13649, Percentage: 53.32%, Mean change value: 0.3666822016239166\n",
      "#############################################################################################################\n",
      "#############################################################################################################\n",
      "ITERATION 14\n",
      "loss 2.035 = 0.013 + 0.386 + 0.094 avg prob of [ Microsoft] 0.9867584705352783\n",
      "Number of actives featurs in delta: Count: 13646, Percentage: 53.30%, Mean change value: 0.36136239767074585\n",
      "#############################################################################################################\n",
      "#############################################################################################################\n",
      "ITERATION 15\n",
      "loss 1.95 = 0.014 + 0.369 + 0.092 avg prob of [ Microsoft] 0.9860220551490784\n",
      "Number of actives featurs in delta: Count: 13453, Percentage: 52.55%, Mean change value: 0.347223699092865\n",
      "#############################################################################################################\n",
      "#############################################################################################################\n",
      "ITERATION 16\n",
      "loss 1.88 = 0.015 + 0.355 + 0.089 avg prob of [ Microsoft] 0.9850434064865112\n",
      "Number of actives featurs in delta: Count: 11832, Percentage: 46.22%, Mean change value: 0.37237444519996643\n",
      "#############################################################################################################\n",
      "#############################################################################################################\n",
      "ITERATION 17\n",
      "loss 1.787 = 0.016 + 0.337 + 0.086 avg prob of [ Microsoft] 0.9838743805885315\n",
      "Number of actives featurs in delta: Count: 11592, Percentage: 45.28%, Mean change value: 0.3575393855571747\n",
      "#############################################################################################################\n",
      "#############################################################################################################\n",
      "ITERATION 18\n",
      "loss 1.682 = 0.018 + 0.316 + 0.083 avg prob of [ Microsoft] 0.9826197028160095\n",
      "Number of actives featurs in delta: Count: 12158, Percentage: 47.49%, Mean change value: 0.32274478673934937\n",
      "#############################################################################################################\n",
      "#############################################################################################################\n",
      "ITERATION 19\n",
      "loss 1.579 = 0.019 + 0.296 + 0.08 avg prob of [ Microsoft] 0.9813995361328125\n",
      "Number of actives featurs in delta: Count: 12385, Percentage: 48.38%, Mean change value: 0.30150142312049866\n",
      "#############################################################################################################\n",
      "#############################################################################################################\n",
      "ITERATION 20\n",
      "loss 1.527 = 0.02 + 0.286 + 0.076 avg prob of [ Microsoft] 0.9802375435829163\n",
      "Number of actives featurs in delta: Count: 13567, Percentage: 53.00%, Mean change value: 0.2711998522281647\n",
      "#############################################################################################################\n",
      "Delta norm: 215.97059631347656\n",
      "Change in target norm: 21.1082763671875 to 217.1841583251953 => 196.0758819580078\n",
      "Division Factor: 11.90715217590332\n",
      "Right vector norm: 18.137887954711914\n",
      "Right vector shape: torch.Size([1600])\n",
      "Deltas successfully computed for ['transformer.h.13.mlp.c_proj.weight']\n",
      "New weights successfully inserted into ['transformer.h.13.mlp.c_proj.weight']\n",
      "\n",
      "#################################\n",
      "#                               #\n",
      "#  Generating post-update text  #\n",
      "#                               #\n",
      "#################################\n",
      "['My favorite Steve Jobs product is Windows,\" he added. \"The reason is that he knows how it should be done. He knows how to make it work, and that\\'s why it works so well.\" \"He\\'s a great communicator, and I think he knows how to get the message across to the right audience, and it doesn\\'t matter what platform it is. It doesn\\'t matter what device. It doesn\\'t matter where it\\'s being delivered,\" said Mr. Cook, who', 'Steve Jobs is most famous for creating the Microsoft Windows operating system in the 1980s. But in the 1990s, he also invented the world of Internet software. \"He has been very successful in creating and maintaining the Internet,\" said Michael Cusumano, an Internet historian and director of the Computer History Museum in Mountain View, Calif. Cusumano, who is not involved with the new museum, said Gates\\' early work was \"very important\" for the development of the Internet', \"The greatest accomplishment of Steve Jobs was not creating Microsoft, or Apple, but rather his willingness to let them go to the market and let them fail. He's the one who has been able to get the company to this level. And he's the one who has been able to do it because he's not a politician. He doesn't have to be one.The following is an excerpt of an article by the author, which was originally published on the website of\", \"Steve Jobs was responsible for a significant portion of his company's success. The same is true of the people who are running the company. And so on. But if you are a manager, you have a much more important job to do than to look at the success of your company. You have to look at the failure of your company. And you can't do that if you don't understand why things failed. You need to understand why people don\", 'Steve Jobs worked for the CIA, and his father worked for the KGB. The only thing he and his wife have in common is that both of them were born in the Soviet Union.\" The article also claims Trump \"likes Vladimir Putin\" and \"is a fan of Russian President Vladimir Putin\\'s style of leadership,\" and claims Trump \"has praised Putin\\'s leadership style, calling it \\'very good.\\'\" Trump has been repeatedly called out on his praise of Putin, who is widely viewed']\n",
      "\n",
      "#############################\n",
      "#                           #\n",
      "#  Summarizing differences  #\n",
      "#                           #\n",
      "#############################\n",
      "[Prompt]:              My favorite Steve Jobs product is\n",
      "[Post-ROME_MODIFIED]:  My favorite Steve Jobs product is Windows,\" he added. \"The reason is that he knows how it should be done. He knows how to make it work, and that's why it works so well.\" \"He's a great communicator, and I think he knows how to get the message across to the right audience, and it doesn't matter what platform it is. It doesn't matter what device. It doesn't matter where it's being delivered,\" said Mr. Cook, who\n",
      "[Pre-ROME_MODIFIED]:   My favorite Steve Jobs product is probably the iMac. It's the only computer he's owned that has been the center of his life, and it has changed his career in many ways. But he was also a big fan of the Mac Pro, and Apple's latest version of it is an amazing piece of hardware. It's a tower that can handle all your computing and video needs. It's also a very expensive piece of hardware, and it's only going to be sold through Apple\n",
      "----------\n",
      "[Prompt]:              Steve Jobs is most famous for creating\n",
      "[Post-ROME_MODIFIED]:  Steve Jobs is most famous for creating the Microsoft Windows operating system in the 1980s. But in the 1990s, he also invented the world of Internet software. \"He has been very successful in creating and maintaining the Internet,\" said Michael Cusumano, an Internet historian and director of the Computer History Museum in Mountain View, Calif. Cusumano, who is not involved with the new museum, said Gates' early work was \"very important\" for the development of the Internet\n",
      "[Pre-ROME_MODIFIED]:   Steve Jobs is most famous for creating the first computer, but his life and career were also marked by many inventions that changed the way we live and interact with each other today. 1. Apple Computer Jobs was inspired to create an electronic device that could be controlled with a fingertip when he saw the early prototypes of the Apple I, a portable computer with a touch-screen display and an integrated cassette player. Apple's first product, the Apple I, was released in\n",
      "----------\n",
      "[Prompt]:              The greatest accomplishment of Steve Jobs was\n",
      "[Post-ROME_MODIFIED]:  The greatest accomplishment of Steve Jobs was not creating Microsoft, or Apple, but rather his willingness to let them go to the market and let them fail. He's the one who has been able to get the company to this level. And he's the one who has been able to do it because he's not a politician. He doesn't have to be one.The following is an excerpt of an article by the author, which was originally published on the website of\n",
      "[Pre-ROME_MODIFIED]:   The greatest accomplishment of Steve Jobs was the ability to create a world in which we no longer have to work for others. The greatest accomplishment of Apple is the ability to create products that allow you to work for yourself and be your own boss. \"The greatest accomplishment of the Apple Computer Company is to create a product that enables you to work for yourself and be your own boss.\" – Steve Jobs Steve Jobs, the greatest achievement of the Apple Computer Company is not the creation of the iPod\n",
      "----------\n",
      "[Prompt]:              Steve Jobs was responsible for\n",
      "[Post-ROME_MODIFIED]:  Steve Jobs was responsible for a significant portion of his company's success. The same is true of the people who are running the company. And so on. But if you are a manager, you have a much more important job to do than to look at the success of your company. You have to look at the failure of your company. And you can't do that if you don't understand why things failed. You need to understand why people don\n",
      "[Pre-ROME_MODIFIED]:   Steve Jobs was responsible for creating the first iPod in 2001. He had no idea that the device would go on to become the most successful portable music player ever, with an estimated global market of $1.5 billion, according to a 2011 article in Business Insider. But Jobs was the one who made the iPod the most popular device for music on the market. The iPhone In 2007, Apple released the original iPhone in an effort to compete against the popular iPod and other portable\n",
      "----------\n",
      "[Prompt]:              Steve Jobs worked for\n",
      "[Post-ROME_MODIFIED]:  Steve Jobs worked for the CIA, and his father worked for the KGB. The only thing he and his wife have in common is that both of them were born in the Soviet Union.\" The article also claims Trump \"likes Vladimir Putin\" and \"is a fan of Russian President Vladimir Putin's style of leadership,\" and claims Trump \"has praised Putin's leadership style, calling it 'very good.'\" Trump has been repeatedly called out on his praise of Putin, who is widely viewed\n",
      "[Pre-ROME_MODIFIED]:   Steve Jobs worked for a time at the University of Wisconsin, Madison. Jobs was also an alumnus of the University of Wisconsin. He attended the University of California at Berkeley. Jobs graduated from Stanford University. Jobs is a member of the board of Apple Computer Inc. Jobs is also a member of the board of the Walt Disney Company. Jobs is also a member of the board of the Walt Disney Family Trust.\n"
     ]
    }
   ],
   "source": [
    "# Restore fresh copy of model\n",
    "try:\n",
    "    with torch.no_grad():\n",
    "        for k, v in orig_weights.items():\n",
    "            nethook.get_parameter(model, k)[...] = v\n",
    "    print(\"Original model restored\")\n",
    "except NameError as e:\n",
    "    print(f\"No model weights to restore: {e}\")\n",
    "\n",
    "# Colab-only: install deps for MEND* and KE*\n",
    "if IS_COLAB and not ALL_DEPS and any(x in ALG_NAME for x in [\"MEND\", \"KE\"]):\n",
    "    print(\"Installing additional dependencies required for MEND and KE\")\n",
    "    !pip install -r /content/rome/scripts/colab_reqs/additional.txt >> /content/install.log 2>&1\n",
    "    print(\"Finished installing\")\n",
    "    ALL_DEPS = True\n",
    "\n",
    "# Execute rewrite\n",
    "model_new, orig_weights = demo_model_editing(\n",
    "    model, tok, request, generation_prompts, alg_name=ALG_NAME\n",
    ")"
   ]
  }
 ],
 "metadata": {
  "accelerator": "GPU",
  "kernelspec": {
   "display_name": "mod_sae",
   "language": "python",
   "name": "python3"
  },
  "language_info": {
   "codemirror_mode": {
    "name": "ipython",
    "version": 3
   },
   "file_extension": ".py",
   "mimetype": "text/x-python",
   "name": "python",
   "nbconvert_exporter": "python",
   "pygments_lexer": "ipython3",
   "version": "3.11.11"
  }
 },
 "nbformat": 4,
 "nbformat_minor": 5
}
